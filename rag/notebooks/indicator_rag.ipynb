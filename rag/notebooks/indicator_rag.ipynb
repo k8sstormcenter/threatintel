{
 "cells": [
  {
   "cell_type": "code",
   "execution_count": null,
   "id": "91bf4023",
   "metadata": {},
   "outputs": [],
   "source": [
    "import os\n",
    "GOOGLE_API_KEY = os.environ.get(\"GOOGLE_API_KEY\")\n",
    "print(\"set\") if GOOGLE_API_KEY else print(\"unset\")"
   ]
  },
  {
   "cell_type": "code",
   "execution_count": null,
   "metadata": {
    "lines_to_next_cell": 0
   },
   "outputs": [],
   "source": [
    "from llama_index.llms.gemini import Gemini\n",
    "\n",
    "resp = Gemini().complete(\"\"\"Create a STIX indicator to match following observable: \n",
    "{\n",
    "  \"type\": \"bundle\",\n",
    "  \"id\": \"bundle--3b3d4e1b-4e4d-4e7c-834d-437eab41a5d3\",\n",
    "  \"spec_version\": \"2.1\",\n",
    "  \"objects\": [\n",
    "    {\n",
    "      \"type\": \"process\",\n",
    "      \"id\": \"process--5b4f20e7-76fd-4bc8-bd23-4b9c4b15a17e\",\n",
    "      \"pid\": 13312,\n",
    "      \"command_line\": \"/var/lib/rancher/rke2/data/v1.28.8-rke2r1-c4073db9beee/bin/containerd-shim-runc-v2 -namespace k8s.io -id e398dd9deb6d850fcc9327f16b3b1204135ed4ea6a27750160d340ca467fa087 -address /run/k3s/containerd/containerd.sock\",\n",
    "      \"cwd\": \"/run/k3s/containerd/io.containerd.runtime.v2.task/k8s.io/e398dd9deb6d850fcc9327f16b3b1204135ed4ea6a27750160d340ca467fa087\",\n",
    "      \"created_time\": \"2024-03-30T18:13:47.987328Z\",\n",
    "      \"image_ref\": \"file--3c4b7b8c-2e6e-4c8b-bc5e-7c2e4b5a2d8e\",\n",
    "      \"extensions\": {\n",
    "        \"flags\": \"procFS auid\",\n",
    "        \"parent_exec_id\": \"azhzLWFnZW50LTAwMjo2MDAwMDAwMDox\"\n",
    "      }\n",
    "    },\n",
    "    {\n",
    "      \"type\": \"process\",\n",
    "      \"id\": \"process--8afdc739-2c3b-4c7e-8890-7742c0c8f8cd\",\n",
    "      \"pid\": 14287,\n",
    "      \"command_line\": \"/usr/bin/tail -F /var/log/auditlog/rancher-api-audit.log\",\n",
    "      \"cwd\": \"/\",\n",
    "      \"created_time\": \"2024-03-30T18:14:23.507328Z\",\n",
    "      \"image_ref\": \"file--3c4b7b8c-2e6e-4c8b-bc5e-7c2e4b5a2d3l\",\n",
    "      \"parent_ref\": \"process--5b4f20e7-76fd-4bc8-bd23-4b9c4b15a17e\",\n",
    "      \"extensions\": {\n",
    "        \"flags\": \"procFS auid rootcwd\",\n",
    "        \"docker\": \"4b7371b1104abe7634abc1c6f00d04a\",\n",
    "        \"container_id\": \"containerd://4b7371b1104abe7634abc1c6f00d04a9ab79145d6093bec2783933a206afc632\",\n",
    "        \"pod_name\": \"rancher-55966c8d68-f56sc\",\n",
    "        \"namespace\": \"cattle-system\"\n",
    "      }\n",
    "    },\n",
    "    {\n",
    "      \"type\": \"file\",\n",
    "      \"id\": \"file--3c4b7b8c-2e6e-4c8b-bc5e-7c2e4b5a2d8e\",\n",
    "      \"name\": \"containerd-shim-runc-v2\"\n",
    "    },\n",
    "    {\n",
    "      \"type\": \"file\",\n",
    "      \"id\": \"file--3c4b7b8c-2e6e-4c8b-bc5e-7c2e4b5a2d3l\",\n",
    "      \"name\": \"/usr/bin/tail\"\n",
    "    },\n",
    "    {\n",
    "      \"type\": \"observed-data\",\n",
    "      \"id\": \"observed-data--5f2d4e5b-3d4e-4e7c-834d-437eab41a5d3\",\n",
    "      \"created\": \"2024-03-30T18:14:23.507328Z\",\n",
    "      \"modified\": \"2024-03-30T18:14:23.507328Z\",\n",
    "      \"first_observed\": \"2024-03-30T18:14:23.507328Z\",\n",
    "      \"last_observed\": \"2024-03-30T18:14:23.507328Z\",\n",
    "      \"number_observed\": 1,\n",
    "      \"object_refs\": [\n",
    "        \"process--8afdc739-2c3b-4c7e-8890-7742c0c8f8cd\",\n",
    "        \"process--5b4f20e7-76fd-4bc8-bd23-4b9c4b15a17e\",\n",
    "        \"file--3c4b7b8c-2e6e-4c8b-bc5e-7c2e4b5a2d8e\",\n",
    "        \"file--3c4b7b8c-2e6e-4c8b-bc5e-7c2e4b5a2d3l\"\n",
    "      ],\n",
    "      \"extensions\": {\n",
    "        \"node_info\": {\n",
    "          \"node_name\": \"k8s-agent-002\"\n",
    "        }\n",
    "      }\n",
    "    }\n",
    "  ]\n",
    "}\n",
    "\"\"\")\n",
    "print(resp)"
   ]
  },
  {
   "cell_type": "markdown",
   "id": "82c0e990",
   "metadata": {},
   "source": []
  }
 ],
 "metadata": {
  "kernelspec": {
   "display_name": ".venv",
   "language": "python",
   "name": "python3"
  },
  "language_info": {
   "name": "python",
   "version": "3.12.4"
  }
 },
 "nbformat": 4,
 "nbformat_minor": 2
}
