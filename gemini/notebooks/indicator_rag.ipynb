{
 "cells": [
  {
   "cell_type": "code",
   "execution_count": 2,
   "id": "91bf4023",
   "metadata": {},
   "outputs": [
    {
     "name": "stdout",
     "output_type": "stream",
     "text": [
      "set\n"
     ]
    }
   ],
   "source": [
    "import os\n",
    "\n",
    "from google.generativeai.generative_models import GenerativeModel\n",
    "GOOGLE_API_KEY = os.environ.get(\"GOOGLE_API_KEY\")\n",
    "print(\"set\") if GOOGLE_API_KEY else print(\"unset\")"
   ]
  },
  {
   "cell_type": "code",
   "execution_count": null,
   "id": "a1d423df",
   "metadata": {},
   "outputs": [],
   "source": [
    "import google.generativeai as genai\n",
    "genai.configure(api_key=GOOGLE_API_KEY)\n",
    "\n",
    "\n",
    "for m in genai.list_models():\n",
    "    if 'generateContent' in m.supported_generation_methods:\n",
    "        print(m.name)"
   ]
  },
  {
   "cell_type": "code",
   "execution_count": 5,
   "id": "00e6c4df",
   "metadata": {
    "lines_to_next_cell": 2
   },
   "outputs": [],
   "source": [
    "from IPython.display import Markdown, display\n",
    "import textwrap\n",
    "\n",
    "def to_markdown(text):\n",
    "  text = text.replace('•', '  *')\n",
    "  return Markdown(textwrap.indent(text, '> ', predicate=lambda _: True))"
   ]
  },
  {
   "cell_type": "code",
   "execution_count": 6,
   "id": "ec0f27d6",
   "metadata": {},
   "outputs": [],
   "source": [
    "safety_settings = [\n",
    "    {\n",
    "        \"category\": \"HARM_CATEGORY_HARASSMENT\",\n",
    "        \"threshold\": \"BLOCK_NONE\",\n",
    "    },\n",
    "    {\n",
    "        \"category\": \"HARM_CATEGORY_HATE_SPEECH\",\n",
    "        \"threshold\": \"BLOCK_NONE\",\n",
    "    },\n",
    "    {\n",
    "        \"category\": \"HARM_CATEGORY_SEXUALLY_EXPLICIT\",\n",
    "        \"threshold\": \"BLOCK_NONE\",\n",
    "    },\n",
    "    {\n",
    "        \"category\": \"HARM_CATEGORY_DANGEROUS_CONTENT\",\n",
    "        \"threshold\": \"BLOCK_NONE\",\n",
    "    },\n",
    "]\n",
    "model = genai.GenerativeModel('gemini-1.5-pro', safety_settings=safety_settings)\n",
    "\n",
    "\n",
    "\n",
    "def prompt_and_print(prompt: str, model: GenerativeModel = model):\n",
    "    result = model.generate_content(prompt)\n",
    "    print(result.text)\n",
    "    # return result"
   ]
  },
  {
   "cell_type": "code",
   "execution_count": 7,
   "id": "9541cfd0",
   "metadata": {
    "lines_to_next_cell": 2
   },
   "outputs": [
    {
     "name": "stdout",
     "output_type": "stream",
     "text": [
      "CPU times: user 23 ms, sys: 11.7 ms, total: 34.6 ms\n",
      "Wall time: 10.6 s\n"
     ]
    }
   ],
   "source": [
    "%%time\n",
    "response = model.generate_content(\"What is STIX?\")"
   ]
  },
  {
   "cell_type": "code",
   "execution_count": 9,
   "id": "f57f4a7b",
   "metadata": {},
   "outputs": [
    {
     "data": {
      "text/markdown": [
       "> **STIX (Structured Threat Information eXpression)** is a standardized language for representing cyber threat information. It provides a common vocabulary and framework for sharing threat intelligence data among different organizations and tools.\n",
       "> \n",
       "> **Key Features of STIX:**\n",
       "> \n",
       "> * **Standardized Representation:** STIX defines a consistent format for representing threat information, regardless of the source or type.\n",
       "> * **Interoperability:** STIX enables interoperability between different security tools and platforms, allowing data to be shared and analyzed effectively.\n",
       "> * **Rich Data Model:** STIX supports a wide range of threat information, including indicators of compromise (IOCs), malware analysis, attack patterns, and threat actor profiles.\n",
       "> * **Extensible:** STIX is extensible, allowing for the inclusion of custom data and information relevant to specific industries or use cases.\n",
       "> * **Open Standard:** STIX is an open and publicly available standard, ensuring its adoption and widespread use.\n",
       "> \n",
       "> **Benefits of Using STIX:**\n",
       "> \n",
       "> * **Improved Threat Intelligence Sharing:** STIX facilitates the sharing of threat information across organizations, enabling collaboration and collective defense.\n",
       "> * **Enhanced Threat Analysis:** By standardizing threat data, STIX enables more effective analysis and detection of threats.\n",
       "> * **Automated Security Processes:** STIX data can be integrated with security tools and platforms, automating threat detection and response processes.\n",
       "> * **Reduced Time to Detection and Response:** By streamlining threat information sharing and analysis, STIX helps organizations respond to threats more quickly.\n",
       "> * **Improved Situational Awareness:** STIX provides a comprehensive view of the threat landscape, enabling organizations to make informed security decisions.\n",
       "> \n",
       "> **Components of STIX:**\n",
       "> \n",
       "> * **STIX 2.0:** The current version of the STIX standard, which includes a comprehensive set of data models and specifications.\n",
       "> * **TAXII (Trusted Automated eXchange of Intelligence Information):** A protocol for sharing STIX data over the internet.\n",
       "> * **STIX-Shields:** A framework for creating and sharing indicators of compromise (IOCs) in STIX format.\n",
       "> \n",
       "> **Use Cases for STIX:**\n",
       "> \n",
       "> * **Threat Intelligence Sharing:** Sharing threat information between security organizations.\n",
       "> * **Cybersecurity Automation:** Integrating STIX data with security tools and platforms for automated threat detection and response.\n",
       "> * **Incident Response:** Analyzing threat information during incident investigations.\n",
       "> * **Threat Hunting:** Searching for indicators of compromise and other threat-related activities.\n",
       "> * **Vulnerability Management:** Identifying and prioritizing vulnerabilities based on threat information.\n"
      ],
      "text/plain": [
       "<IPython.core.display.Markdown object>"
      ]
     },
     "execution_count": 9,
     "metadata": {},
     "output_type": "execute_result"
    }
   ],
   "source": [
    "to_markdown(response.text)"
   ]
  },
  {
   "cell_type": "code",
   "execution_count": 10,
   "metadata": {
    "lines_to_next_cell": 2
   },
   "outputs": [
    {
     "data": {
      "text/plain": [
       "'**STIX (Structured Threat Information eXpression)** is a standardized language for representing cyber threat information. It provides a common vocabulary and framework for sharing threat intelligence data among different organizations and tools.\\n\\n**Key Features of STIX:**\\n\\n* **Standardized Representation:** STIX defines a consistent format for representing threat information, regardless of the source or type.\\n* **Interoperability:** STIX enables interoperability between different security tools and platforms, allowing data to be shared and analyzed effectively.\\n* **Rich Data Model:** STIX supports a wide range of threat information, including indicators of compromise (IOCs), malware analysis, attack patterns, and threat actor profiles.\\n* **Extensible:** STIX is extensible, allowing for the inclusion of custom data and information relevant to specific industries or use cases.\\n* **Open Standard:** STIX is an open and publicly available standard, ensuring its adoption and widespread use.\\n\\n**Benefits of Using STIX:**\\n\\n* **Improved Threat Intelligence Sharing:** STIX facilitates the sharing of threat information across organizations, enabling collaboration and collective defense.\\n* **Enhanced Threat Analysis:** By standardizing threat data, STIX enables more effective analysis and detection of threats.\\n* **Automated Security Processes:** STIX data can be integrated with security tools and platforms, automating threat detection and response processes.\\n* **Reduced Time to Detection and Response:** By streamlining threat information sharing and analysis, STIX helps organizations respond to threats more quickly.\\n* **Improved Situational Awareness:** STIX provides a comprehensive view of the threat landscape, enabling organizations to make informed security decisions.\\n\\n**Components of STIX:**\\n\\n* **STIX 2.0:** The current version of the STIX standard, which includes a comprehensive set of data models and specifications.\\n* **TAXII (Trusted Automated eXchange of Intelligence Information):** A protocol for sharing STIX data over the internet.\\n* **STIX-Shields:** A framework for creating and sharing indicators of compromise (IOCs) in STIX format.\\n\\n**Use Cases for STIX:**\\n\\n* **Threat Intelligence Sharing:** Sharing threat information between security organizations.\\n* **Cybersecurity Automation:** Integrating STIX data with security tools and platforms for automated threat detection and response.\\n* **Incident Response:** Analyzing threat information during incident investigations.\\n* **Threat Hunting:** Searching for indicators of compromise and other threat-related activities.\\n* **Vulnerability Management:** Identifying and prioritizing vulnerabilities based on threat information.\\n'"
      ]
     },
     "execution_count": 10,
     "metadata": {},
     "output_type": "execute_result"
    }
   ],
   "source": [
    "print(response.text)"
   ]
  },
  {
   "cell_type": "code",
   "execution_count": 3,
   "id": "3b06a9a4",
   "metadata": {
    "lines_to_next_cell": 0
   },
   "outputs": [
    {
     "name": "stderr",
     "output_type": "stream",
     "text": [
      "/home/lukas/OneDrive-TU/Uni/k8storm/repos/threatintel/rag/.venv/lib/python3.12/site-packages/tqdm/auto.py:21: TqdmWarning: IProgress not found. Please update jupyter and ipywidgets. See https://ipywidgets.readthedocs.io/en/stable/user_install.html\n",
      "  from .autonotebook import tqdm as notebook_tqdm\n",
      "WARNING: All log messages before absl::InitializeLog() is called are written to STDERR\n",
      "I0000 00:00:1721891414.362255  779157 config.cc:230] gRPC experiments enabled: call_status_override_on_cancellation, event_engine_dns, event_engine_listener, http2_stats_fix, monitoring_experiment, pick_first_new, trace_record_callops, work_serializer_clears_time_cache\n"
     ]
    },
    {
     "ename": "InvalidArgument",
     "evalue": "400 API key not valid. Please pass a valid API key. [reason: \"API_KEY_INVALID\"\ndomain: \"googleapis.com\"\nmetadata {\n  key: \"service\"\n  value: \"generativelanguage.googleapis.com\"\n}\n]",
     "output_type": "error",
     "traceback": [
      "\u001b[0;31m---------------------------------------------------------------------------\u001b[0m",
      "\u001b[0;31mInvalidArgument\u001b[0m                           Traceback (most recent call last)",
      "Cell \u001b[0;32mIn[3], line 74\u001b[0m\n\u001b[1;32m      1\u001b[0m \u001b[38;5;28;01mfrom\u001b[39;00m \u001b[38;5;21;01mllama_index\u001b[39;00m\u001b[38;5;21;01m.\u001b[39;00m\u001b[38;5;21;01mllms\u001b[39;00m\u001b[38;5;21;01m.\u001b[39;00m\u001b[38;5;21;01mgemini\u001b[39;00m \u001b[38;5;28;01mimport\u001b[39;00m Gemini\n\u001b[1;32m      3\u001b[0m prompt \u001b[38;5;241m=\u001b[39m \u001b[38;5;124m\"\"\"\u001b[39m\u001b[38;5;124mCreate a STIX indicator to match following observable: \u001b[39m\n\u001b[1;32m      4\u001b[0m \u001b[38;5;124m{\u001b[39m\n\u001b[1;32m      5\u001b[0m \u001b[38;5;124m  \u001b[39m\u001b[38;5;124m\"\u001b[39m\u001b[38;5;124mtype\u001b[39m\u001b[38;5;124m\"\u001b[39m\u001b[38;5;124m: \u001b[39m\u001b[38;5;124m\"\u001b[39m\u001b[38;5;124mbundle\u001b[39m\u001b[38;5;124m\"\u001b[39m\u001b[38;5;124m,\u001b[39m\n\u001b[0;32m   (...)\u001b[0m\n\u001b[1;32m     70\u001b[0m \u001b[38;5;124m}\u001b[39m\n\u001b[1;32m     71\u001b[0m \u001b[38;5;124m\"\"\"\u001b[39m\n\u001b[0;32m---> 74\u001b[0m resp \u001b[38;5;241m=\u001b[39m \u001b[43mGemini\u001b[49m\u001b[43m(\u001b[49m\u001b[38;5;124;43m\"\u001b[39;49m\u001b[38;5;124;43mmodels/gemini-1.5-pro\u001b[39;49m\u001b[38;5;124;43m\"\u001b[39;49m\u001b[43m,\u001b[49m\u001b[43m \u001b[49m\u001b[43mkey\u001b[49m\u001b[38;5;241;43m=\u001b[39;49m\u001b[43mGOOGLE_API_KEY\u001b[49m\u001b[43m)\u001b[49m\u001b[38;5;241m.\u001b[39mcomplete(\u001b[38;5;124m\"\u001b[39m\u001b[38;5;124mWhat is STIX?\u001b[39m\u001b[38;5;124m\"\u001b[39m)\n\u001b[1;32m     75\u001b[0m \u001b[38;5;28mprint\u001b[39m(resp)\n",
      "File \u001b[0;32m~/OneDrive-TU/Uni/k8storm/repos/threatintel/rag/.venv/lib/python3.12/site-packages/llama_index/llms/gemini/base.py:141\u001b[0m, in \u001b[0;36mGemini.__init__\u001b[0;34m(self, api_key, model, temperature, max_tokens, generation_config, safety_settings, callback_manager, api_base, transport, model_name, **generate_kwargs)\u001b[0m\n\u001b[1;32m    133\u001b[0m final_gen_config \u001b[38;5;241m=\u001b[39m {\u001b[38;5;124m\"\u001b[39m\u001b[38;5;124mtemperature\u001b[39m\u001b[38;5;124m\"\u001b[39m: temperature, \u001b[38;5;241m*\u001b[39m\u001b[38;5;241m*\u001b[39mbase_gen_config}\n\u001b[1;32m    135\u001b[0m \u001b[38;5;28mself\u001b[39m\u001b[38;5;241m.\u001b[39m_model \u001b[38;5;241m=\u001b[39m genai\u001b[38;5;241m.\u001b[39mGenerativeModel(\n\u001b[1;32m    136\u001b[0m     model_name\u001b[38;5;241m=\u001b[39mmodel,\n\u001b[1;32m    137\u001b[0m     generation_config\u001b[38;5;241m=\u001b[39mfinal_gen_config,\n\u001b[1;32m    138\u001b[0m     safety_settings\u001b[38;5;241m=\u001b[39msafety_settings,\n\u001b[1;32m    139\u001b[0m )\n\u001b[0;32m--> 141\u001b[0m \u001b[38;5;28mself\u001b[39m\u001b[38;5;241m.\u001b[39m_model_meta \u001b[38;5;241m=\u001b[39m \u001b[43mgenai\u001b[49m\u001b[38;5;241;43m.\u001b[39;49m\u001b[43mget_model\u001b[49m\u001b[43m(\u001b[49m\u001b[43mmodel\u001b[49m\u001b[43m)\u001b[49m\n\u001b[1;32m    143\u001b[0m supported_methods \u001b[38;5;241m=\u001b[39m \u001b[38;5;28mself\u001b[39m\u001b[38;5;241m.\u001b[39m_model_meta\u001b[38;5;241m.\u001b[39msupported_generation_methods\n\u001b[1;32m    144\u001b[0m \u001b[38;5;28;01mif\u001b[39;00m \u001b[38;5;124m\"\u001b[39m\u001b[38;5;124mgenerateContent\u001b[39m\u001b[38;5;124m\"\u001b[39m \u001b[38;5;129;01mnot\u001b[39;00m \u001b[38;5;129;01min\u001b[39;00m supported_methods:\n",
      "File \u001b[0;32m~/OneDrive-TU/Uni/k8storm/repos/threatintel/rag/.venv/lib/python3.12/site-packages/google/generativeai/models.py:54\u001b[0m, in \u001b[0;36mget_model\u001b[0;34m(name, client, request_options)\u001b[0m\n\u001b[1;32m     52\u001b[0m name \u001b[38;5;241m=\u001b[39m model_types\u001b[38;5;241m.\u001b[39mmake_model_name(name)\n\u001b[1;32m     53\u001b[0m \u001b[38;5;28;01mif\u001b[39;00m name\u001b[38;5;241m.\u001b[39mstartswith(\u001b[38;5;124m\"\u001b[39m\u001b[38;5;124mmodels/\u001b[39m\u001b[38;5;124m\"\u001b[39m):\n\u001b[0;32m---> 54\u001b[0m     \u001b[38;5;28;01mreturn\u001b[39;00m \u001b[43mget_base_model\u001b[49m\u001b[43m(\u001b[49m\u001b[43mname\u001b[49m\u001b[43m,\u001b[49m\u001b[43m \u001b[49m\u001b[43mclient\u001b[49m\u001b[38;5;241;43m=\u001b[39;49m\u001b[43mclient\u001b[49m\u001b[43m,\u001b[49m\u001b[43m \u001b[49m\u001b[43mrequest_options\u001b[49m\u001b[38;5;241;43m=\u001b[39;49m\u001b[43mrequest_options\u001b[49m\u001b[43m)\u001b[49m\n\u001b[1;32m     55\u001b[0m \u001b[38;5;28;01melif\u001b[39;00m name\u001b[38;5;241m.\u001b[39mstartswith(\u001b[38;5;124m\"\u001b[39m\u001b[38;5;124mtunedModels/\u001b[39m\u001b[38;5;124m\"\u001b[39m):\n\u001b[1;32m     56\u001b[0m     \u001b[38;5;28;01mreturn\u001b[39;00m get_tuned_model(name, client\u001b[38;5;241m=\u001b[39mclient, request_options\u001b[38;5;241m=\u001b[39mrequest_options)\n",
      "File \u001b[0;32m~/OneDrive-TU/Uni/k8storm/repos/threatintel/rag/.venv/lib/python3.12/site-packages/google/generativeai/models.py:93\u001b[0m, in \u001b[0;36mget_base_model\u001b[0;34m(name, client, request_options)\u001b[0m\n\u001b[1;32m     90\u001b[0m \u001b[38;5;28;01mif\u001b[39;00m \u001b[38;5;129;01mnot\u001b[39;00m name\u001b[38;5;241m.\u001b[39mstartswith(\u001b[38;5;124m\"\u001b[39m\u001b[38;5;124mmodels/\u001b[39m\u001b[38;5;124m\"\u001b[39m):\n\u001b[1;32m     91\u001b[0m     \u001b[38;5;28;01mraise\u001b[39;00m \u001b[38;5;167;01mValueError\u001b[39;00m(\u001b[38;5;124mf\u001b[39m\u001b[38;5;124m\"\u001b[39m\u001b[38;5;124mBase model names must start with `models/`, got: \u001b[39m\u001b[38;5;132;01m{\u001b[39;00mname\u001b[38;5;132;01m}\u001b[39;00m\u001b[38;5;124m\"\u001b[39m)\n\u001b[0;32m---> 93\u001b[0m result \u001b[38;5;241m=\u001b[39m \u001b[43mclient\u001b[49m\u001b[38;5;241;43m.\u001b[39;49m\u001b[43mget_model\u001b[49m\u001b[43m(\u001b[49m\u001b[43mname\u001b[49m\u001b[38;5;241;43m=\u001b[39;49m\u001b[43mname\u001b[49m\u001b[43m,\u001b[49m\u001b[43m \u001b[49m\u001b[38;5;241;43m*\u001b[39;49m\u001b[38;5;241;43m*\u001b[39;49m\u001b[43mrequest_options\u001b[49m\u001b[43m)\u001b[49m\n\u001b[1;32m     94\u001b[0m result \u001b[38;5;241m=\u001b[39m \u001b[38;5;28mtype\u001b[39m(result)\u001b[38;5;241m.\u001b[39mto_dict(result)\n\u001b[1;32m     95\u001b[0m \u001b[38;5;28;01mreturn\u001b[39;00m model_types\u001b[38;5;241m.\u001b[39mModel(\u001b[38;5;241m*\u001b[39m\u001b[38;5;241m*\u001b[39mresult)\n",
      "File \u001b[0;32m~/OneDrive-TU/Uni/k8storm/repos/threatintel/rag/.venv/lib/python3.12/site-packages/google/ai/generativelanguage_v1beta/services/model_service/client.py:790\u001b[0m, in \u001b[0;36mModelServiceClient.get_model\u001b[0;34m(self, request, name, retry, timeout, metadata)\u001b[0m\n\u001b[1;32m    787\u001b[0m \u001b[38;5;28mself\u001b[39m\u001b[38;5;241m.\u001b[39m_validate_universe_domain()\n\u001b[1;32m    789\u001b[0m \u001b[38;5;66;03m# Send the request.\u001b[39;00m\n\u001b[0;32m--> 790\u001b[0m response \u001b[38;5;241m=\u001b[39m \u001b[43mrpc\u001b[49m\u001b[43m(\u001b[49m\n\u001b[1;32m    791\u001b[0m \u001b[43m    \u001b[49m\u001b[43mrequest\u001b[49m\u001b[43m,\u001b[49m\n\u001b[1;32m    792\u001b[0m \u001b[43m    \u001b[49m\u001b[43mretry\u001b[49m\u001b[38;5;241;43m=\u001b[39;49m\u001b[43mretry\u001b[49m\u001b[43m,\u001b[49m\n\u001b[1;32m    793\u001b[0m \u001b[43m    \u001b[49m\u001b[43mtimeout\u001b[49m\u001b[38;5;241;43m=\u001b[39;49m\u001b[43mtimeout\u001b[49m\u001b[43m,\u001b[49m\n\u001b[1;32m    794\u001b[0m \u001b[43m    \u001b[49m\u001b[43mmetadata\u001b[49m\u001b[38;5;241;43m=\u001b[39;49m\u001b[43mmetadata\u001b[49m\u001b[43m,\u001b[49m\n\u001b[1;32m    795\u001b[0m \u001b[43m\u001b[49m\u001b[43m)\u001b[49m\n\u001b[1;32m    797\u001b[0m \u001b[38;5;66;03m# Done; return the response.\u001b[39;00m\n\u001b[1;32m    798\u001b[0m \u001b[38;5;28;01mreturn\u001b[39;00m response\n",
      "File \u001b[0;32m~/OneDrive-TU/Uni/k8storm/repos/threatintel/rag/.venv/lib/python3.12/site-packages/google/api_core/gapic_v1/method.py:131\u001b[0m, in \u001b[0;36m_GapicCallable.__call__\u001b[0;34m(self, timeout, retry, compression, *args, **kwargs)\u001b[0m\n\u001b[1;32m    128\u001b[0m \u001b[38;5;28;01mif\u001b[39;00m \u001b[38;5;28mself\u001b[39m\u001b[38;5;241m.\u001b[39m_compression \u001b[38;5;129;01mis\u001b[39;00m \u001b[38;5;129;01mnot\u001b[39;00m \u001b[38;5;28;01mNone\u001b[39;00m:\n\u001b[1;32m    129\u001b[0m     kwargs[\u001b[38;5;124m\"\u001b[39m\u001b[38;5;124mcompression\u001b[39m\u001b[38;5;124m\"\u001b[39m] \u001b[38;5;241m=\u001b[39m compression\n\u001b[0;32m--> 131\u001b[0m \u001b[38;5;28;01mreturn\u001b[39;00m \u001b[43mwrapped_func\u001b[49m\u001b[43m(\u001b[49m\u001b[38;5;241;43m*\u001b[39;49m\u001b[43margs\u001b[49m\u001b[43m,\u001b[49m\u001b[43m \u001b[49m\u001b[38;5;241;43m*\u001b[39;49m\u001b[38;5;241;43m*\u001b[39;49m\u001b[43mkwargs\u001b[49m\u001b[43m)\u001b[49m\n",
      "File \u001b[0;32m~/OneDrive-TU/Uni/k8storm/repos/threatintel/rag/.venv/lib/python3.12/site-packages/google/api_core/retry/retry_unary.py:293\u001b[0m, in \u001b[0;36mRetry.__call__.<locals>.retry_wrapped_func\u001b[0;34m(*args, **kwargs)\u001b[0m\n\u001b[1;32m    289\u001b[0m target \u001b[38;5;241m=\u001b[39m functools\u001b[38;5;241m.\u001b[39mpartial(func, \u001b[38;5;241m*\u001b[39margs, \u001b[38;5;241m*\u001b[39m\u001b[38;5;241m*\u001b[39mkwargs)\n\u001b[1;32m    290\u001b[0m sleep_generator \u001b[38;5;241m=\u001b[39m exponential_sleep_generator(\n\u001b[1;32m    291\u001b[0m     \u001b[38;5;28mself\u001b[39m\u001b[38;5;241m.\u001b[39m_initial, \u001b[38;5;28mself\u001b[39m\u001b[38;5;241m.\u001b[39m_maximum, multiplier\u001b[38;5;241m=\u001b[39m\u001b[38;5;28mself\u001b[39m\u001b[38;5;241m.\u001b[39m_multiplier\n\u001b[1;32m    292\u001b[0m )\n\u001b[0;32m--> 293\u001b[0m \u001b[38;5;28;01mreturn\u001b[39;00m \u001b[43mretry_target\u001b[49m\u001b[43m(\u001b[49m\n\u001b[1;32m    294\u001b[0m \u001b[43m    \u001b[49m\u001b[43mtarget\u001b[49m\u001b[43m,\u001b[49m\n\u001b[1;32m    295\u001b[0m \u001b[43m    \u001b[49m\u001b[38;5;28;43mself\u001b[39;49m\u001b[38;5;241;43m.\u001b[39;49m\u001b[43m_predicate\u001b[49m\u001b[43m,\u001b[49m\n\u001b[1;32m    296\u001b[0m \u001b[43m    \u001b[49m\u001b[43msleep_generator\u001b[49m\u001b[43m,\u001b[49m\n\u001b[1;32m    297\u001b[0m \u001b[43m    \u001b[49m\u001b[43mtimeout\u001b[49m\u001b[38;5;241;43m=\u001b[39;49m\u001b[38;5;28;43mself\u001b[39;49m\u001b[38;5;241;43m.\u001b[39;49m\u001b[43m_timeout\u001b[49m\u001b[43m,\u001b[49m\n\u001b[1;32m    298\u001b[0m \u001b[43m    \u001b[49m\u001b[43mon_error\u001b[49m\u001b[38;5;241;43m=\u001b[39;49m\u001b[43mon_error\u001b[49m\u001b[43m,\u001b[49m\n\u001b[1;32m    299\u001b[0m \u001b[43m\u001b[49m\u001b[43m)\u001b[49m\n",
      "File \u001b[0;32m~/OneDrive-TU/Uni/k8storm/repos/threatintel/rag/.venv/lib/python3.12/site-packages/google/api_core/retry/retry_unary.py:153\u001b[0m, in \u001b[0;36mretry_target\u001b[0;34m(target, predicate, sleep_generator, timeout, on_error, exception_factory, **kwargs)\u001b[0m\n\u001b[1;32m    149\u001b[0m \u001b[38;5;66;03m# pylint: disable=broad-except\u001b[39;00m\n\u001b[1;32m    150\u001b[0m \u001b[38;5;66;03m# This function explicitly must deal with broad exceptions.\u001b[39;00m\n\u001b[1;32m    151\u001b[0m \u001b[38;5;28;01mexcept\u001b[39;00m \u001b[38;5;167;01mException\u001b[39;00m \u001b[38;5;28;01mas\u001b[39;00m exc:\n\u001b[1;32m    152\u001b[0m     \u001b[38;5;66;03m# defer to shared logic for handling errors\u001b[39;00m\n\u001b[0;32m--> 153\u001b[0m     \u001b[43m_retry_error_helper\u001b[49m\u001b[43m(\u001b[49m\n\u001b[1;32m    154\u001b[0m \u001b[43m        \u001b[49m\u001b[43mexc\u001b[49m\u001b[43m,\u001b[49m\n\u001b[1;32m    155\u001b[0m \u001b[43m        \u001b[49m\u001b[43mdeadline\u001b[49m\u001b[43m,\u001b[49m\n\u001b[1;32m    156\u001b[0m \u001b[43m        \u001b[49m\u001b[43msleep\u001b[49m\u001b[43m,\u001b[49m\n\u001b[1;32m    157\u001b[0m \u001b[43m        \u001b[49m\u001b[43merror_list\u001b[49m\u001b[43m,\u001b[49m\n\u001b[1;32m    158\u001b[0m \u001b[43m        \u001b[49m\u001b[43mpredicate\u001b[49m\u001b[43m,\u001b[49m\n\u001b[1;32m    159\u001b[0m \u001b[43m        \u001b[49m\u001b[43mon_error\u001b[49m\u001b[43m,\u001b[49m\n\u001b[1;32m    160\u001b[0m \u001b[43m        \u001b[49m\u001b[43mexception_factory\u001b[49m\u001b[43m,\u001b[49m\n\u001b[1;32m    161\u001b[0m \u001b[43m        \u001b[49m\u001b[43mtimeout\u001b[49m\u001b[43m,\u001b[49m\n\u001b[1;32m    162\u001b[0m \u001b[43m    \u001b[49m\u001b[43m)\u001b[49m\n\u001b[1;32m    163\u001b[0m     \u001b[38;5;66;03m# if exception not raised, sleep before next attempt\u001b[39;00m\n\u001b[1;32m    164\u001b[0m     time\u001b[38;5;241m.\u001b[39msleep(sleep)\n",
      "File \u001b[0;32m~/OneDrive-TU/Uni/k8storm/repos/threatintel/rag/.venv/lib/python3.12/site-packages/google/api_core/retry/retry_base.py:212\u001b[0m, in \u001b[0;36m_retry_error_helper\u001b[0;34m(exc, deadline, next_sleep, error_list, predicate_fn, on_error_fn, exc_factory_fn, original_timeout)\u001b[0m\n\u001b[1;32m    206\u001b[0m \u001b[38;5;28;01mif\u001b[39;00m \u001b[38;5;129;01mnot\u001b[39;00m predicate_fn(exc):\n\u001b[1;32m    207\u001b[0m     final_exc, source_exc \u001b[38;5;241m=\u001b[39m exc_factory_fn(\n\u001b[1;32m    208\u001b[0m         error_list,\n\u001b[1;32m    209\u001b[0m         RetryFailureReason\u001b[38;5;241m.\u001b[39mNON_RETRYABLE_ERROR,\n\u001b[1;32m    210\u001b[0m         original_timeout,\n\u001b[1;32m    211\u001b[0m     )\n\u001b[0;32m--> 212\u001b[0m     \u001b[38;5;28;01mraise\u001b[39;00m final_exc \u001b[38;5;28;01mfrom\u001b[39;00m \u001b[38;5;21;01msource_exc\u001b[39;00m\n\u001b[1;32m    213\u001b[0m \u001b[38;5;28;01mif\u001b[39;00m on_error_fn \u001b[38;5;129;01mis\u001b[39;00m \u001b[38;5;129;01mnot\u001b[39;00m \u001b[38;5;28;01mNone\u001b[39;00m:\n\u001b[1;32m    214\u001b[0m     on_error_fn(exc)\n",
      "File \u001b[0;32m~/OneDrive-TU/Uni/k8storm/repos/threatintel/rag/.venv/lib/python3.12/site-packages/google/api_core/retry/retry_unary.py:144\u001b[0m, in \u001b[0;36mretry_target\u001b[0;34m(target, predicate, sleep_generator, timeout, on_error, exception_factory, **kwargs)\u001b[0m\n\u001b[1;32m    142\u001b[0m \u001b[38;5;28;01mfor\u001b[39;00m sleep \u001b[38;5;129;01min\u001b[39;00m sleep_generator:\n\u001b[1;32m    143\u001b[0m     \u001b[38;5;28;01mtry\u001b[39;00m:\n\u001b[0;32m--> 144\u001b[0m         result \u001b[38;5;241m=\u001b[39m \u001b[43mtarget\u001b[49m\u001b[43m(\u001b[49m\u001b[43m)\u001b[49m\n\u001b[1;32m    145\u001b[0m         \u001b[38;5;28;01mif\u001b[39;00m inspect\u001b[38;5;241m.\u001b[39misawaitable(result):\n\u001b[1;32m    146\u001b[0m             warnings\u001b[38;5;241m.\u001b[39mwarn(_ASYNC_RETRY_WARNING)\n",
      "File \u001b[0;32m~/OneDrive-TU/Uni/k8storm/repos/threatintel/rag/.venv/lib/python3.12/site-packages/google/api_core/timeout.py:120\u001b[0m, in \u001b[0;36mTimeToDeadlineTimeout.__call__.<locals>.func_with_timeout\u001b[0;34m(*args, **kwargs)\u001b[0m\n\u001b[1;32m    117\u001b[0m     \u001b[38;5;66;03m# Avoid setting negative timeout\u001b[39;00m\n\u001b[1;32m    118\u001b[0m     kwargs[\u001b[38;5;124m\"\u001b[39m\u001b[38;5;124mtimeout\u001b[39m\u001b[38;5;124m\"\u001b[39m] \u001b[38;5;241m=\u001b[39m \u001b[38;5;28mmax\u001b[39m(\u001b[38;5;241m0\u001b[39m, \u001b[38;5;28mself\u001b[39m\u001b[38;5;241m.\u001b[39m_timeout \u001b[38;5;241m-\u001b[39m time_since_first_attempt)\n\u001b[0;32m--> 120\u001b[0m \u001b[38;5;28;01mreturn\u001b[39;00m \u001b[43mfunc\u001b[49m\u001b[43m(\u001b[49m\u001b[38;5;241;43m*\u001b[39;49m\u001b[43margs\u001b[49m\u001b[43m,\u001b[49m\u001b[43m \u001b[49m\u001b[38;5;241;43m*\u001b[39;49m\u001b[38;5;241;43m*\u001b[39;49m\u001b[43mkwargs\u001b[49m\u001b[43m)\u001b[49m\n",
      "File \u001b[0;32m~/OneDrive-TU/Uni/k8storm/repos/threatintel/rag/.venv/lib/python3.12/site-packages/google/api_core/grpc_helpers.py:78\u001b[0m, in \u001b[0;36m_wrap_unary_errors.<locals>.error_remapped_callable\u001b[0;34m(*args, **kwargs)\u001b[0m\n\u001b[1;32m     76\u001b[0m     \u001b[38;5;28;01mreturn\u001b[39;00m callable_(\u001b[38;5;241m*\u001b[39margs, \u001b[38;5;241m*\u001b[39m\u001b[38;5;241m*\u001b[39mkwargs)\n\u001b[1;32m     77\u001b[0m \u001b[38;5;28;01mexcept\u001b[39;00m grpc\u001b[38;5;241m.\u001b[39mRpcError \u001b[38;5;28;01mas\u001b[39;00m exc:\n\u001b[0;32m---> 78\u001b[0m     \u001b[38;5;28;01mraise\u001b[39;00m exceptions\u001b[38;5;241m.\u001b[39mfrom_grpc_error(exc) \u001b[38;5;28;01mfrom\u001b[39;00m \u001b[38;5;21;01mexc\u001b[39;00m\n",
      "\u001b[0;31mInvalidArgument\u001b[0m: 400 API key not valid. Please pass a valid API key. [reason: \"API_KEY_INVALID\"\ndomain: \"googleapis.com\"\nmetadata {\n  key: \"service\"\n  value: \"generativelanguage.googleapis.com\"\n}\n]"
     ]
    }
   ],
   "source": [
    "observables_bundle = {\n",
    "  \"type\": \"bundle\",\n",
    "  \"id\": \"bundle--3b3d4e1b-4e4d-4e7c-834d-437eab41a5d3\",\n",
    "  \"spec_version\": \"2.1\",\n",
    "  \"objects\": [\n",
    "    {\n",
    "      \"type\": \"process\",\n",
    "      \"id\": \"process--5b4f20e7-76fd-4bc8-bd23-4b9c4b15a17e\",\n",
    "      \"pid\": 13312,\n",
    "      \"command_line\": \"/var/lib/rancher/rke2/data/v1.28.8-rke2r1-c4073db9beee/bin/containerd-shim-runc-v2 -namespace k8s.io -id e398dd9deb6d850fcc9327f16b3b1204135ed4ea6a27750160d340ca467fa087 -address /run/k3s/containerd/containerd.sock\",\n",
    "      \"cwd\": \"/run/k3s/containerd/io.containerd.runtime.v2.task/k8s.io/e398dd9deb6d850fcc9327f16b3b1204135ed4ea6a27750160d340ca467fa087\",\n",
    "      \"created_time\": \"2024-03-30T18:13:47.987328Z\",\n",
    "      \"image_ref\": \"file--3c4b7b8c-2e6e-4c8b-bc5e-7c2e4b5a2d8e\",\n",
    "      \"extensions\": {\n",
    "        \"flags\": \"procFS auid\",\n",
    "        \"parent_exec_id\": \"azhzLWFnZW50LTAwMjo2MDAwMDAwMDox\"\n",
    "      }\n",
    "    },\n",
    "    {\n",
    "      \"type\": \"process\",\n",
    "      \"id\": \"process--8afdc739-2c3b-4c7e-8890-7742c0c8f8cd\",\n",
    "      \"pid\": 14287,\n",
    "      \"command_line\": \"/usr/bin/tail -F /var/log/auditlog/rancher-api-audit.log\",\n",
    "      \"cwd\": \"/\",\n",
    "      \"created_time\": \"2024-03-30T18:14:23.507328Z\",\n",
    "      \"image_ref\": \"file--3c4b7b8c-2e6e-4c8b-bc5e-7c2e4b5a2d3l\",\n",
    "      \"parent_ref\": \"process--5b4f20e7-76fd-4bc8-bd23-4b9c4b15a17e\",\n",
    "      \"extensions\": {\n",
    "        \"flags\": \"procFS auid rootcwd\",\n",
    "        \"docker\": \"4b7371b1104abe7634abc1c6f00d04a\",\n",
    "        \"container_id\": \"containerd://4b7371b1104abe7634abc1c6f00d04a9ab79145d6093bec2783933a206afc632\",\n",
    "        \"pod_name\": \"rancher-55966c8d68-f56sc\",\n",
    "        \"namespace\": \"cattle-system\"\n",
    "      }\n",
    "    },\n",
    "    {\n",
    "      \"type\": \"file\",\n",
    "      \"id\": \"file--3c4b7b8c-2e6e-4c8b-bc5e-7c2e4b5a2d8e\",\n",
    "      \"name\": \"containerd-shim-runc-v2\"\n",
    "    },\n",
    "    {\n",
    "      \"type\": \"file\",\n",
    "      \"id\": \"file--3c4b7b8c-2e6e-4c8b-bc5e-7c2e4b5a2d3l\",\n",
    "      \"name\": \"/usr/bin/tail\"\n",
    "    },\n",
    "    {\n",
    "      \"type\": \"observed-data\",\n",
    "      \"id\": \"observed-data--5f2d4e5b-3d4e-4e7c-834d-437eab41a5d3\",\n",
    "      \"created\": \"2024-03-30T18:14:23.507328Z\",\n",
    "      \"modified\": \"2024-03-30T18:14:23.507328Z\",\n",
    "      \"first_observed\": \"2024-03-30T18:14:23.507328Z\",\n",
    "      \"last_observed\": \"2024-03-30T18:14:23.507328Z\",\n",
    "      \"number_observed\": 1,\n",
    "      \"object_refs\": [\n",
    "        \"process--8afdc739-2c3b-4c7e-8890-7742c0c8f8cd\",\n",
    "        \"process--5b4f20e7-76fd-4bc8-bd23-4b9c4b15a17e\",\n",
    "        \"file--3c4b7b8c-2e6e-4c8b-bc5e-7c2e4b5a2d8e\",\n",
    "        \"file--3c4b7b8c-2e6e-4c8b-bc5e-7c2e4b5a2d3l\"\n",
    "      ],\n",
    "      \"extensions\": {\n",
    "        \"node_info\": {\n",
    "          \"node_name\": \"k8s-agent-002\"\n",
    "        }\n",
    "      }\n",
    "    }\n",
    "  ]\n",
    "}\n",
    "prompt = f\"\"\"Create STIX indicators to match the following observables: \n",
    "{str(observables_bundle)}\n",
    "\"\"\"\n",
    "\n",
    "\n",
    "# resp = Gemini(\"models/gemini-1.5-pro\", key=GOOGLE_API_KEY).complete(\"What is STIX?\")\n",
    "# print(resp)"
   ]
  },
  {
   "cell_type": "markdown",
   "id": "6be7a639",
   "metadata": {},
   "source": [
    "\n"
   ]
  },
  {
   "cell_type": "code",
   "execution_count": null,
   "metadata": {
    "lines_to_next_cell": 2
   },
   "outputs": [],
   "source": [
    "response_indicator = model.generate_content(prompt)"
   ]
  },
  {
   "cell_type": "code",
   "execution_count": null,
   "id": "a7b4dbab",
   "metadata": {
    "lines_to_next_cell": 0
   },
   "outputs": [],
   "source": [
    "print(response_indicator.text)"
   ]
  },
  {
   "cell_type": "markdown",
   "id": "b5650b62",
   "metadata": {},
   "source": [
    "\n",
    "\n"
   ]
  },
  {
   "cell_type": "markdown",
   "id": "41b15f93",
   "metadata": {},
   "source": [
    "## Only return STIX"
   ]
  },
  {
   "cell_type": "code",
   "execution_count": null,
   "id": "65fd2e13",
   "metadata": {
    "lines_to_next_cell": 2
   },
   "outputs": [],
   "source": [
    "prompt_only_stix = f\"\"\"Create STIX indicators to match the following observables. Only provide the json.\n",
    "{observables_bundle}\n",
    "\"\"\"\n",
    "prompt_and_print(prompt_only_stix)"
   ]
  },
  {
   "cell_type": "markdown",
   "id": "cbda8827",
   "metadata": {},
   "source": [
    "# Produce patterns for a well known attack"
   ]
  },
  {
   "cell_type": "code",
   "execution_count": null,
   "id": "3c3ba474",
   "metadata": {
    "lines_to_next_cell": 2
   },
   "outputs": [],
   "source": [
    "prompt_peirates = \"\"\"Create STIX indicators to matchc the installation of peirates. Only provide the json.\"\"\"\n",
    "\n",
    "res = model.generate_content(prompt_peirates)"
   ]
  },
  {
   "cell_type": "code",
   "execution_count": null,
   "id": "79e3c528",
   "metadata": {},
   "outputs": [],
   "source": [
    "print(res.text)\n",
    "# res.text"
   ]
  }
 ],
 "metadata": {
  "kernelspec": {
   "display_name": ".venv",
   "language": "python",
   "name": "python3"
  },
  "language_info": {
   "codemirror_mode": {
    "name": "ipython",
    "version": 3
   },
   "file_extension": ".py",
   "mimetype": "text/x-python",
   "name": "python",
   "nbconvert_exporter": "python",
   "pygments_lexer": "ipython3",
   "version": "3.12.4"
  }
 },
 "nbformat": 4,
 "nbformat_minor": 2
}
